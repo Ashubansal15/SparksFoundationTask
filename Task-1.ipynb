{
 "cells": [
  {
   "cell_type": "markdown",
   "metadata": {},
   "source": [
    "# Import relevant libraries"
   ]
  },
  {
   "cell_type": "markdown",
   "metadata": {},
   "source": [
    "Name-Ashu Bansal"
   ]
  },
  {
   "cell_type": "markdown",
   "metadata": {},
   "source": [
    "Objective-To find the optimum number of clusters"
   ]
  },
  {
   "cell_type": "code",
   "execution_count": 2,
   "metadata": {},
   "outputs": [],
   "source": [
    "import pandas as pd\n",
    "import numpy as np\n",
    "import matplotlib.pyplot as plt\n",
    "import seaborn as sns\n",
    "sns.set()\n",
    "from sklearn.cluster import KMeans"
   ]
  },
  {
   "cell_type": "markdown",
   "metadata": {},
   "source": [
    "# Load Data"
   ]
  },
  {
   "cell_type": "code",
   "execution_count": 3,
   "metadata": {},
   "outputs": [
    {
     "data": {
      "text/html": [
       "<div>\n",
       "<style scoped>\n",
       "    .dataframe tbody tr th:only-of-type {\n",
       "        vertical-align: middle;\n",
       "    }\n",
       "\n",
       "    .dataframe tbody tr th {\n",
       "        vertical-align: top;\n",
       "    }\n",
       "\n",
       "    .dataframe thead th {\n",
       "        text-align: right;\n",
       "    }\n",
       "</style>\n",
       "<table border=\"1\" class=\"dataframe\">\n",
       "  <thead>\n",
       "    <tr style=\"text-align: right;\">\n",
       "      <th></th>\n",
       "      <th>Id</th>\n",
       "      <th>SepalLengthCm</th>\n",
       "      <th>SepalWidthCm</th>\n",
       "      <th>PetalLengthCm</th>\n",
       "      <th>PetalWidthCm</th>\n",
       "      <th>Species</th>\n",
       "    </tr>\n",
       "  </thead>\n",
       "  <tbody>\n",
       "    <tr>\n",
       "      <th>0</th>\n",
       "      <td>1</td>\n",
       "      <td>5.1</td>\n",
       "      <td>3.5</td>\n",
       "      <td>1.4</td>\n",
       "      <td>0.2</td>\n",
       "      <td>Iris-setosa</td>\n",
       "    </tr>\n",
       "    <tr>\n",
       "      <th>1</th>\n",
       "      <td>2</td>\n",
       "      <td>4.9</td>\n",
       "      <td>3.0</td>\n",
       "      <td>1.4</td>\n",
       "      <td>0.2</td>\n",
       "      <td>Iris-setosa</td>\n",
       "    </tr>\n",
       "    <tr>\n",
       "      <th>2</th>\n",
       "      <td>3</td>\n",
       "      <td>4.7</td>\n",
       "      <td>3.2</td>\n",
       "      <td>1.3</td>\n",
       "      <td>0.2</td>\n",
       "      <td>Iris-setosa</td>\n",
       "    </tr>\n",
       "    <tr>\n",
       "      <th>3</th>\n",
       "      <td>4</td>\n",
       "      <td>4.6</td>\n",
       "      <td>3.1</td>\n",
       "      <td>1.5</td>\n",
       "      <td>0.2</td>\n",
       "      <td>Iris-setosa</td>\n",
       "    </tr>\n",
       "    <tr>\n",
       "      <th>4</th>\n",
       "      <td>5</td>\n",
       "      <td>5.0</td>\n",
       "      <td>3.6</td>\n",
       "      <td>1.4</td>\n",
       "      <td>0.2</td>\n",
       "      <td>Iris-setosa</td>\n",
       "    </tr>\n",
       "  </tbody>\n",
       "</table>\n",
       "</div>"
      ],
      "text/plain": [
       "   Id  SepalLengthCm  SepalWidthCm  PetalLengthCm  PetalWidthCm      Species\n",
       "0   1            5.1           3.5            1.4           0.2  Iris-setosa\n",
       "1   2            4.9           3.0            1.4           0.2  Iris-setosa\n",
       "2   3            4.7           3.2            1.3           0.2  Iris-setosa\n",
       "3   4            4.6           3.1            1.5           0.2  Iris-setosa\n",
       "4   5            5.0           3.6            1.4           0.2  Iris-setosa"
      ]
     },
     "execution_count": 3,
     "metadata": {},
     "output_type": "execute_result"
    }
   ],
   "source": [
    "raw_data=pd.read_csv('Iris.csv')\n",
    "raw_data.head()"
   ]
  },
  {
   "cell_type": "markdown",
   "metadata": {},
   "source": [
    "# Select The Variables"
   ]
  },
  {
   "cell_type": "code",
   "execution_count": 4,
   "metadata": {},
   "outputs": [
    {
     "data": {
      "text/html": [
       "<div>\n",
       "<style scoped>\n",
       "    .dataframe tbody tr th:only-of-type {\n",
       "        vertical-align: middle;\n",
       "    }\n",
       "\n",
       "    .dataframe tbody tr th {\n",
       "        vertical-align: top;\n",
       "    }\n",
       "\n",
       "    .dataframe thead th {\n",
       "        text-align: right;\n",
       "    }\n",
       "</style>\n",
       "<table border=\"1\" class=\"dataframe\">\n",
       "  <thead>\n",
       "    <tr style=\"text-align: right;\">\n",
       "      <th></th>\n",
       "      <th>SepalLengthCm</th>\n",
       "      <th>SepalWidthCm</th>\n",
       "      <th>PetalLengthCm</th>\n",
       "    </tr>\n",
       "  </thead>\n",
       "  <tbody>\n",
       "    <tr>\n",
       "      <th>0</th>\n",
       "      <td>5.1</td>\n",
       "      <td>3.5</td>\n",
       "      <td>1.4</td>\n",
       "    </tr>\n",
       "    <tr>\n",
       "      <th>1</th>\n",
       "      <td>4.9</td>\n",
       "      <td>3.0</td>\n",
       "      <td>1.4</td>\n",
       "    </tr>\n",
       "    <tr>\n",
       "      <th>2</th>\n",
       "      <td>4.7</td>\n",
       "      <td>3.2</td>\n",
       "      <td>1.3</td>\n",
       "    </tr>\n",
       "    <tr>\n",
       "      <th>3</th>\n",
       "      <td>4.6</td>\n",
       "      <td>3.1</td>\n",
       "      <td>1.5</td>\n",
       "    </tr>\n",
       "    <tr>\n",
       "      <th>4</th>\n",
       "      <td>5.0</td>\n",
       "      <td>3.6</td>\n",
       "      <td>1.4</td>\n",
       "    </tr>\n",
       "  </tbody>\n",
       "</table>\n",
       "</div>"
      ],
      "text/plain": [
       "   SepalLengthCm  SepalWidthCm  PetalLengthCm\n",
       "0            5.1           3.5            1.4\n",
       "1            4.9           3.0            1.4\n",
       "2            4.7           3.2            1.3\n",
       "3            4.6           3.1            1.5\n",
       "4            5.0           3.6            1.4"
      ]
     },
     "execution_count": 4,
     "metadata": {},
     "output_type": "execute_result"
    }
   ],
   "source": [
    "x=raw_data.iloc[:,1:4]\n",
    "x.head()"
   ]
  },
  {
   "cell_type": "markdown",
   "metadata": {},
   "source": [
    "# Cluster"
   ]
  },
  {
   "cell_type": "code",
   "execution_count": 5,
   "metadata": {},
   "outputs": [
    {
     "data": {
      "text/plain": [
       "KMeans(algorithm='auto', copy_x=True, init='k-means++', max_iter=300,\n",
       "       n_clusters=3, n_init=10, n_jobs=None, precompute_distances='auto',\n",
       "       random_state=None, tol=0.0001, verbose=0)"
      ]
     },
     "execution_count": 5,
     "metadata": {},
     "output_type": "execute_result"
    }
   ],
   "source": [
    "kmeans=KMeans(3)\n",
    "kmeans.fit(x)"
   ]
  },
  {
   "cell_type": "markdown",
   "metadata": {},
   "source": [
    "# Clustering Result"
   ]
  },
  {
   "cell_type": "code",
   "execution_count": 6,
   "metadata": {},
   "outputs": [
    {
     "data": {
      "text/html": [
       "<div>\n",
       "<style scoped>\n",
       "    .dataframe tbody tr th:only-of-type {\n",
       "        vertical-align: middle;\n",
       "    }\n",
       "\n",
       "    .dataframe tbody tr th {\n",
       "        vertical-align: top;\n",
       "    }\n",
       "\n",
       "    .dataframe thead th {\n",
       "        text-align: right;\n",
       "    }\n",
       "</style>\n",
       "<table border=\"1\" class=\"dataframe\">\n",
       "  <thead>\n",
       "    <tr style=\"text-align: right;\">\n",
       "      <th></th>\n",
       "      <th>SepalLengthCm</th>\n",
       "      <th>SepalWidthCm</th>\n",
       "      <th>PetalLengthCm</th>\n",
       "      <th>cluster</th>\n",
       "    </tr>\n",
       "  </thead>\n",
       "  <tbody>\n",
       "    <tr>\n",
       "      <th>0</th>\n",
       "      <td>5.1</td>\n",
       "      <td>3.5</td>\n",
       "      <td>1.4</td>\n",
       "      <td>1</td>\n",
       "    </tr>\n",
       "    <tr>\n",
       "      <th>1</th>\n",
       "      <td>4.9</td>\n",
       "      <td>3.0</td>\n",
       "      <td>1.4</td>\n",
       "      <td>1</td>\n",
       "    </tr>\n",
       "    <tr>\n",
       "      <th>2</th>\n",
       "      <td>4.7</td>\n",
       "      <td>3.2</td>\n",
       "      <td>1.3</td>\n",
       "      <td>1</td>\n",
       "    </tr>\n",
       "    <tr>\n",
       "      <th>3</th>\n",
       "      <td>4.6</td>\n",
       "      <td>3.1</td>\n",
       "      <td>1.5</td>\n",
       "      <td>1</td>\n",
       "    </tr>\n",
       "    <tr>\n",
       "      <th>4</th>\n",
       "      <td>5.0</td>\n",
       "      <td>3.6</td>\n",
       "      <td>1.4</td>\n",
       "      <td>1</td>\n",
       "    </tr>\n",
       "    <tr>\n",
       "      <th>...</th>\n",
       "      <td>...</td>\n",
       "      <td>...</td>\n",
       "      <td>...</td>\n",
       "      <td>...</td>\n",
       "    </tr>\n",
       "    <tr>\n",
       "      <th>145</th>\n",
       "      <td>6.7</td>\n",
       "      <td>3.0</td>\n",
       "      <td>5.2</td>\n",
       "      <td>0</td>\n",
       "    </tr>\n",
       "    <tr>\n",
       "      <th>146</th>\n",
       "      <td>6.3</td>\n",
       "      <td>2.5</td>\n",
       "      <td>5.0</td>\n",
       "      <td>2</td>\n",
       "    </tr>\n",
       "    <tr>\n",
       "      <th>147</th>\n",
       "      <td>6.5</td>\n",
       "      <td>3.0</td>\n",
       "      <td>5.2</td>\n",
       "      <td>0</td>\n",
       "    </tr>\n",
       "    <tr>\n",
       "      <th>148</th>\n",
       "      <td>6.2</td>\n",
       "      <td>3.4</td>\n",
       "      <td>5.4</td>\n",
       "      <td>0</td>\n",
       "    </tr>\n",
       "    <tr>\n",
       "      <th>149</th>\n",
       "      <td>5.9</td>\n",
       "      <td>3.0</td>\n",
       "      <td>5.1</td>\n",
       "      <td>2</td>\n",
       "    </tr>\n",
       "  </tbody>\n",
       "</table>\n",
       "<p>150 rows × 4 columns</p>\n",
       "</div>"
      ],
      "text/plain": [
       "     SepalLengthCm  SepalWidthCm  PetalLengthCm  cluster\n",
       "0              5.1           3.5            1.4        1\n",
       "1              4.9           3.0            1.4        1\n",
       "2              4.7           3.2            1.3        1\n",
       "3              4.6           3.1            1.5        1\n",
       "4              5.0           3.6            1.4        1\n",
       "..             ...           ...            ...      ...\n",
       "145            6.7           3.0            5.2        0\n",
       "146            6.3           2.5            5.0        2\n",
       "147            6.5           3.0            5.2        0\n",
       "148            6.2           3.4            5.4        0\n",
       "149            5.9           3.0            5.1        2\n",
       "\n",
       "[150 rows x 4 columns]"
      ]
     },
     "execution_count": 6,
     "metadata": {},
     "output_type": "execute_result"
    }
   ],
   "source": [
    "cluster=kmeans.fit_predict(x)\n",
    "cluster_data=x.copy()\n",
    "cluster_data['cluster']=cluster\n",
    "cluster_data"
   ]
  },
  {
   "cell_type": "markdown",
   "metadata": {},
   "source": [
    "# Scale the data"
   ]
  },
  {
   "cell_type": "code",
   "execution_count": 7,
   "metadata": {},
   "outputs": [],
   "source": [
    "from sklearn import preprocessing"
   ]
  },
  {
   "cell_type": "code",
   "execution_count": 8,
   "metadata": {},
   "outputs": [
    {
     "data": {
      "text/plain": [
       "array([[-0.90068117,  1.03205722, -1.3412724 ],\n",
       "       [-1.14301691, -0.1249576 , -1.3412724 ],\n",
       "       [-1.38535265,  0.33784833, -1.39813811],\n",
       "       [-1.50652052,  0.10644536, -1.2844067 ],\n",
       "       [-1.02184904,  1.26346019, -1.3412724 ],\n",
       "       [-0.53717756,  1.95766909, -1.17067529],\n",
       "       [-1.50652052,  0.80065426, -1.3412724 ],\n",
       "       [-1.02184904,  0.80065426, -1.2844067 ],\n",
       "       [-1.74885626, -0.35636057, -1.3412724 ],\n",
       "       [-1.14301691,  0.10644536, -1.2844067 ],\n",
       "       [-0.53717756,  1.49486315, -1.2844067 ],\n",
       "       [-1.26418478,  0.80065426, -1.227541  ],\n",
       "       [-1.26418478, -0.1249576 , -1.3412724 ],\n",
       "       [-1.87002413, -0.1249576 , -1.51186952],\n",
       "       [-0.05250608,  2.18907205, -1.45500381],\n",
       "       [-0.17367395,  3.11468391, -1.2844067 ],\n",
       "       [-0.53717756,  1.95766909, -1.39813811],\n",
       "       [-0.90068117,  1.03205722, -1.3412724 ],\n",
       "       [-0.17367395,  1.72626612, -1.17067529],\n",
       "       [-0.90068117,  1.72626612, -1.2844067 ],\n",
       "       [-0.53717756,  0.80065426, -1.17067529],\n",
       "       [-0.90068117,  1.49486315, -1.2844067 ],\n",
       "       [-1.50652052,  1.26346019, -1.56873522],\n",
       "       [-0.90068117,  0.56925129, -1.17067529],\n",
       "       [-1.26418478,  0.80065426, -1.05694388],\n",
       "       [-1.02184904, -0.1249576 , -1.227541  ],\n",
       "       [-1.02184904,  0.80065426, -1.227541  ],\n",
       "       [-0.7795133 ,  1.03205722, -1.2844067 ],\n",
       "       [-0.7795133 ,  0.80065426, -1.3412724 ],\n",
       "       [-1.38535265,  0.33784833, -1.227541  ],\n",
       "       [-1.26418478,  0.10644536, -1.227541  ],\n",
       "       [-0.53717756,  0.80065426, -1.2844067 ],\n",
       "       [-0.7795133 ,  2.42047502, -1.2844067 ],\n",
       "       [-0.41600969,  2.65187798, -1.3412724 ],\n",
       "       [-1.14301691,  0.10644536, -1.2844067 ],\n",
       "       [-1.02184904,  0.33784833, -1.45500381],\n",
       "       [-0.41600969,  1.03205722, -1.39813811],\n",
       "       [-1.14301691,  0.10644536, -1.2844067 ],\n",
       "       [-1.74885626, -0.1249576 , -1.39813811],\n",
       "       [-0.90068117,  0.80065426, -1.2844067 ],\n",
       "       [-1.02184904,  1.03205722, -1.39813811],\n",
       "       [-1.62768839, -1.74477836, -1.39813811],\n",
       "       [-1.74885626,  0.33784833, -1.39813811],\n",
       "       [-1.02184904,  1.03205722, -1.227541  ],\n",
       "       [-0.90068117,  1.72626612, -1.05694388],\n",
       "       [-1.26418478, -0.1249576 , -1.3412724 ],\n",
       "       [-0.90068117,  1.72626612, -1.227541  ],\n",
       "       [-1.50652052,  0.33784833, -1.3412724 ],\n",
       "       [-0.65834543,  1.49486315, -1.2844067 ],\n",
       "       [-1.02184904,  0.56925129, -1.3412724 ],\n",
       "       [ 1.40150837,  0.33784833,  0.53529583],\n",
       "       [ 0.67450115,  0.33784833,  0.42156442],\n",
       "       [ 1.2803405 ,  0.10644536,  0.64902723],\n",
       "       [-0.41600969, -1.74477836,  0.1372359 ],\n",
       "       [ 0.79566902, -0.58776353,  0.47843012],\n",
       "       [-0.17367395, -0.58776353,  0.42156442],\n",
       "       [ 0.55333328,  0.56925129,  0.53529583],\n",
       "       [-1.14301691, -1.51337539, -0.26082403],\n",
       "       [ 0.91683689, -0.35636057,  0.47843012],\n",
       "       [-0.7795133 , -0.8191665 ,  0.08037019],\n",
       "       [-1.02184904, -2.43898725, -0.14709262],\n",
       "       [ 0.06866179, -0.1249576 ,  0.25096731],\n",
       "       [ 0.18982966, -1.97618132,  0.1372359 ],\n",
       "       [ 0.31099753, -0.35636057,  0.53529583],\n",
       "       [-0.29484182, -0.35636057, -0.09022692],\n",
       "       [ 1.03800476,  0.10644536,  0.36469871],\n",
       "       [-0.29484182, -0.1249576 ,  0.42156442],\n",
       "       [-0.05250608, -0.8191665 ,  0.1941016 ],\n",
       "       [ 0.4321654 , -1.97618132,  0.42156442],\n",
       "       [-0.29484182, -1.28197243,  0.08037019],\n",
       "       [ 0.06866179,  0.33784833,  0.59216153],\n",
       "       [ 0.31099753, -0.58776353,  0.1372359 ],\n",
       "       [ 0.55333328, -1.28197243,  0.64902723],\n",
       "       [ 0.31099753, -0.58776353,  0.53529583],\n",
       "       [ 0.67450115, -0.35636057,  0.30783301],\n",
       "       [ 0.91683689, -0.1249576 ,  0.36469871],\n",
       "       [ 1.15917263, -0.58776353,  0.59216153],\n",
       "       [ 1.03800476, -0.1249576 ,  0.70589294],\n",
       "       [ 0.18982966, -0.35636057,  0.42156442],\n",
       "       [-0.17367395, -1.05056946, -0.14709262],\n",
       "       [-0.41600969, -1.51337539,  0.02350449],\n",
       "       [-0.41600969, -1.51337539, -0.03336121],\n",
       "       [-0.05250608, -0.8191665 ,  0.08037019],\n",
       "       [ 0.18982966, -0.8191665 ,  0.76275864],\n",
       "       [-0.53717756, -0.1249576 ,  0.42156442],\n",
       "       [ 0.18982966,  0.80065426,  0.42156442],\n",
       "       [ 1.03800476,  0.10644536,  0.53529583],\n",
       "       [ 0.55333328, -1.74477836,  0.36469871],\n",
       "       [-0.29484182, -0.1249576 ,  0.1941016 ],\n",
       "       [-0.41600969, -1.28197243,  0.1372359 ],\n",
       "       [-0.41600969, -1.05056946,  0.36469871],\n",
       "       [ 0.31099753, -0.1249576 ,  0.47843012],\n",
       "       [-0.05250608, -1.05056946,  0.1372359 ],\n",
       "       [-1.02184904, -1.74477836, -0.26082403],\n",
       "       [-0.29484182, -0.8191665 ,  0.25096731],\n",
       "       [-0.17367395, -0.1249576 ,  0.25096731],\n",
       "       [-0.17367395, -0.35636057,  0.25096731],\n",
       "       [ 0.4321654 , -0.35636057,  0.30783301],\n",
       "       [-0.90068117, -1.28197243, -0.43142114],\n",
       "       [-0.17367395, -0.58776353,  0.1941016 ],\n",
       "       [ 0.55333328,  0.56925129,  1.27454998],\n",
       "       [-0.05250608, -0.8191665 ,  0.76275864],\n",
       "       [ 1.52267624, -0.1249576 ,  1.21768427],\n",
       "       [ 0.55333328, -0.35636057,  1.04708716],\n",
       "       [ 0.79566902, -0.1249576 ,  1.16081857],\n",
       "       [ 2.12851559, -0.1249576 ,  1.6157442 ],\n",
       "       [-1.14301691, -1.28197243,  0.42156442],\n",
       "       [ 1.76501198, -0.35636057,  1.44514709],\n",
       "       [ 1.03800476, -1.28197243,  1.16081857],\n",
       "       [ 1.64384411,  1.26346019,  1.33141568],\n",
       "       [ 0.79566902,  0.33784833,  0.76275864],\n",
       "       [ 0.67450115, -0.8191665 ,  0.87649005],\n",
       "       [ 1.15917263, -0.1249576 ,  0.99022146],\n",
       "       [-0.17367395, -1.28197243,  0.70589294],\n",
       "       [-0.05250608, -0.58776353,  0.76275864],\n",
       "       [ 0.67450115,  0.33784833,  0.87649005],\n",
       "       [ 0.79566902, -0.1249576 ,  0.99022146],\n",
       "       [ 2.24968346,  1.72626612,  1.67260991],\n",
       "       [ 2.24968346, -1.05056946,  1.78634131],\n",
       "       [ 0.18982966, -1.97618132,  0.70589294],\n",
       "       [ 1.2803405 ,  0.33784833,  1.10395287],\n",
       "       [-0.29484182, -0.58776353,  0.64902723],\n",
       "       [ 2.24968346, -0.58776353,  1.67260991],\n",
       "       [ 0.55333328, -0.8191665 ,  0.64902723],\n",
       "       [ 1.03800476,  0.56925129,  1.10395287],\n",
       "       [ 1.64384411,  0.33784833,  1.27454998],\n",
       "       [ 0.4321654 , -0.58776353,  0.59216153],\n",
       "       [ 0.31099753, -0.1249576 ,  0.64902723],\n",
       "       [ 0.67450115, -0.58776353,  1.04708716],\n",
       "       [ 1.64384411, -0.1249576 ,  1.16081857],\n",
       "       [ 1.88617985, -0.58776353,  1.33141568],\n",
       "       [ 2.4920192 ,  1.72626612,  1.50201279],\n",
       "       [ 0.67450115, -0.58776353,  1.04708716],\n",
       "       [ 0.55333328, -0.58776353,  0.76275864],\n",
       "       [ 0.31099753, -1.05056946,  1.04708716],\n",
       "       [ 2.24968346, -0.1249576 ,  1.33141568],\n",
       "       [ 0.55333328,  0.80065426,  1.04708716],\n",
       "       [ 0.67450115,  0.10644536,  0.99022146],\n",
       "       [ 0.18982966, -0.1249576 ,  0.59216153],\n",
       "       [ 1.2803405 ,  0.10644536,  0.93335575],\n",
       "       [ 1.03800476,  0.10644536,  1.04708716],\n",
       "       [ 1.2803405 ,  0.10644536,  0.76275864],\n",
       "       [-0.05250608, -0.8191665 ,  0.76275864],\n",
       "       [ 1.15917263,  0.33784833,  1.21768427],\n",
       "       [ 1.03800476,  0.56925129,  1.10395287],\n",
       "       [ 1.03800476, -0.1249576 ,  0.81962435],\n",
       "       [ 0.55333328, -1.28197243,  0.70589294],\n",
       "       [ 0.79566902, -0.1249576 ,  0.81962435],\n",
       "       [ 0.4321654 ,  0.80065426,  0.93335575],\n",
       "       [ 0.06866179, -0.1249576 ,  0.76275864]])"
      ]
     },
     "execution_count": 8,
     "metadata": {},
     "output_type": "execute_result"
    }
   ],
   "source": [
    "x_scaled=preprocessing.scale(x)\n",
    "x_scaled"
   ]
  },
  {
   "cell_type": "markdown",
   "metadata": {},
   "source": [
    "# Elbow Method "
   ]
  },
  {
   "cell_type": "code",
   "execution_count": 9,
   "metadata": {},
   "outputs": [],
   "source": [
    "wcss=[]\n",
    "for i in range(1,10):\n",
    "    kmeans=KMeans(i)\n",
    "    kmeans.fit(x_scaled)\n",
    "    wcss.append(kmeans.inertia_)"
   ]
  },
  {
   "cell_type": "code",
   "execution_count": 10,
   "metadata": {},
   "outputs": [
    {
     "data": {
      "text/plain": [
       "[449.9999999999999,\n",
       " 191.8830947775226,\n",
       " 120.35544683345853,\n",
       " 94.92833560202348,\n",
       " 75.54002231466244,\n",
       " 62.83457583229361,\n",
       " 54.92099139412723,\n",
       " 47.02973872813309,\n",
       " 40.38581985366474]"
      ]
     },
     "execution_count": 10,
     "metadata": {},
     "output_type": "execute_result"
    }
   ],
   "source": [
    "wcss"
   ]
  },
  {
   "cell_type": "code",
   "execution_count": 11,
   "metadata": {},
   "outputs": [
    {
     "data": {
      "image/png": "[encoded data removed]",
      "text/plain": [
       "<Figure size 432x288 with 1 Axes>"
      ]
     },
     "metadata": {},
     "output_type": "display_data"
    }
   ],
   "source": [
    "plt.plot(range(1,10),wcss)\n",
    "plt.xlabel('No of clusters',fontsize=20)\n",
    "plt.ylabel('WCSS Value',fontsize=20)\n",
    "plt.show()"
   ]
  },
  {
   "cell_type": "markdown",
   "metadata": {},
   "source": [
    "# Recreate clustring"
   ]
  },
  {
   "cell_type": "code",
   "execution_count": 12,
   "metadata": {},
   "outputs": [
    {
     "data": {
      "text/plain": [
       "KMeans(algorithm='auto', copy_x=True, init='k-means++', max_iter=300,\n",
       "       n_clusters=3, n_init=10, n_jobs=None, precompute_distances='auto',\n",
       "       random_state=None, tol=0.0001, verbose=0)"
      ]
     },
     "execution_count": 12,
     "metadata": {},
     "output_type": "execute_result"
    }
   ],
   "source": [
    "kmeans_new=KMeans(3)\n",
    "kmeans_new.fit(x_scaled)\n"
   ]
  },
  {
   "cell_type": "code",
   "execution_count": 13,
   "metadata": {},
   "outputs": [
    {
     "data": {
      "text/html": [
       "<div>\n",
       "<style scoped>\n",
       "    .dataframe tbody tr th:only-of-type {\n",
       "        vertical-align: middle;\n",
       "    }\n",
       "\n",
       "    .dataframe tbody tr th {\n",
       "        vertical-align: top;\n",
       "    }\n",
       "\n",
       "    .dataframe thead th {\n",
       "        text-align: right;\n",
       "    }\n",
       "</style>\n",
       "<table border=\"1\" class=\"dataframe\">\n",
       "  <thead>\n",
       "    <tr style=\"text-align: right;\">\n",
       "      <th></th>\n",
       "      <th>SepalLengthCm</th>\n",
       "      <th>SepalWidthCm</th>\n",
       "      <th>PetalLengthCm</th>\n",
       "      <th>cluster</th>\n",
       "    </tr>\n",
       "  </thead>\n",
       "  <tbody>\n",
       "    <tr>\n",
       "      <th>0</th>\n",
       "      <td>5.1</td>\n",
       "      <td>3.5</td>\n",
       "      <td>1.4</td>\n",
       "      <td>0</td>\n",
       "    </tr>\n",
       "    <tr>\n",
       "      <th>1</th>\n",
       "      <td>4.9</td>\n",
       "      <td>3.0</td>\n",
       "      <td>1.4</td>\n",
       "      <td>0</td>\n",
       "    </tr>\n",
       "    <tr>\n",
       "      <th>2</th>\n",
       "      <td>4.7</td>\n",
       "      <td>3.2</td>\n",
       "      <td>1.3</td>\n",
       "      <td>0</td>\n",
       "    </tr>\n",
       "    <tr>\n",
       "      <th>3</th>\n",
       "      <td>4.6</td>\n",
       "      <td>3.1</td>\n",
       "      <td>1.5</td>\n",
       "      <td>0</td>\n",
       "    </tr>\n",
       "    <tr>\n",
       "      <th>4</th>\n",
       "      <td>5.0</td>\n",
       "      <td>3.6</td>\n",
       "      <td>1.4</td>\n",
       "      <td>0</td>\n",
       "    </tr>\n",
       "    <tr>\n",
       "      <th>...</th>\n",
       "      <td>...</td>\n",
       "      <td>...</td>\n",
       "      <td>...</td>\n",
       "      <td>...</td>\n",
       "    </tr>\n",
       "    <tr>\n",
       "      <th>145</th>\n",
       "      <td>6.7</td>\n",
       "      <td>3.0</td>\n",
       "      <td>5.2</td>\n",
       "      <td>1</td>\n",
       "    </tr>\n",
       "    <tr>\n",
       "      <th>146</th>\n",
       "      <td>6.3</td>\n",
       "      <td>2.5</td>\n",
       "      <td>5.0</td>\n",
       "      <td>2</td>\n",
       "    </tr>\n",
       "    <tr>\n",
       "      <th>147</th>\n",
       "      <td>6.5</td>\n",
       "      <td>3.0</td>\n",
       "      <td>5.2</td>\n",
       "      <td>1</td>\n",
       "    </tr>\n",
       "    <tr>\n",
       "      <th>148</th>\n",
       "      <td>6.2</td>\n",
       "      <td>3.4</td>\n",
       "      <td>5.4</td>\n",
       "      <td>1</td>\n",
       "    </tr>\n",
       "    <tr>\n",
       "      <th>149</th>\n",
       "      <td>5.9</td>\n",
       "      <td>3.0</td>\n",
       "      <td>5.1</td>\n",
       "      <td>2</td>\n",
       "    </tr>\n",
       "  </tbody>\n",
       "</table>\n",
       "<p>150 rows × 4 columns</p>\n",
       "</div>"
      ],
      "text/plain": [
       "     SepalLengthCm  SepalWidthCm  PetalLengthCm  cluster\n",
       "0              5.1           3.5            1.4        0\n",
       "1              4.9           3.0            1.4        0\n",
       "2              4.7           3.2            1.3        0\n",
       "3              4.6           3.1            1.5        0\n",
       "4              5.0           3.6            1.4        0\n",
       "..             ...           ...            ...      ...\n",
       "145            6.7           3.0            5.2        1\n",
       "146            6.3           2.5            5.0        2\n",
       "147            6.5           3.0            5.2        1\n",
       "148            6.2           3.4            5.4        1\n",
       "149            5.9           3.0            5.1        2\n",
       "\n",
       "[150 rows x 4 columns]"
      ]
     },
     "execution_count": 13,
     "metadata": {},
     "output_type": "execute_result"
    }
   ],
   "source": [
    "clean_data=x.copy()\n",
    "new_cluster=kmeans_new.fit_predict(x_scaled)\n",
    "clean_data['cluster']=new_cluster\n",
    "clean_data"
   ]
  },
  {
   "cell_type": "markdown",
   "metadata": {},
   "source": [
    "# Plot Clustering"
   ]
  },
  {
   "cell_type": "code",
   "execution_count": 14,
   "metadata": {},
   "outputs": [
    {
     "data": {
      "image/png": "[encoded data removed]",
      "text/plain": [
       "<Figure size 432x288 with 1 Axes>"
      ]
     },
     "metadata": {},
     "output_type": "display_data"
    }
   ],
   "source": [
    "plt.scatter(clean_data['SepalLengthCm'],clean_data['SepalWidthCm'], c=clean_data['cluster'],cmap='winter')\n",
    "plt.show()"
   ]
  },
  {
   "cell_type": "markdown",
   "metadata": {},
   "source": [
    "## Optimum no. of clusters is 3"
   ]
  },
  {
   "cell_type": "code",
   "execution_count": null,
   "metadata": {},
   "outputs": [],
   "source": []
  }
 ],
 "metadata": {
  "kernelspec": {
   "display_name": "Python 3",
   "language": "python",
   "name": "python3"
  },
  "language_info": {
   "codemirror_mode": {
    "name": "ipython",
    "version": 3
   },
   "file_extension": ".py",
   "mimetype": "text/x-python",
   "name": "python",
   "nbconvert_exporter": "python",
   "pygments_lexer": "ipython3",
   "version": "3.7.6"
  }
 },
 "nbformat": 4,
 "nbformat_minor": 4
}
